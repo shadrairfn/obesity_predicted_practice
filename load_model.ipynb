{
 "cells": [
  {
   "cell_type": "code",
   "execution_count": 2,
   "metadata": {},
   "outputs": [
    {
     "name": "stdout",
     "output_type": "stream",
     "text": [
      "Model berhasil dimuat!\n"
     ]
    }
   ],
   "source": [
    "import joblib\n",
    "# Membuka model\n",
    "loaded_model = joblib.load('obesity_prediction_random_forest.pkl')\n",
    "loaded_scaler = joblib.load('scaler_numerik.pkl')\n",
    "loaded_encode = joblib.load('encode_categorical.pkl')\n",
    "loaded_selection = joblib.load('x_selected.pkl')\n",
    "print(\"Model berhasil dimuat!\")\n"
   ]
  },
  {
   "cell_type": "markdown",
   "metadata": {},
   "source": [
    "# How to use"
   ]
  },
  {
   "cell_type": "code",
   "execution_count": 4,
   "metadata": {},
   "outputs": [
    {
     "name": "stdout",
     "output_type": "stream",
     "text": [
      "Test Case Input:\n",
      "   Weight  Weight  Gender  family_history  FCVC  FCVC  Height  Height\n",
      "0     100     100       1               0   4.0   4.0     1.8     1.8\n",
      "\n",
      "Predicted Class: Obesity_Type_I\n",
      "Class Probabilities: [[0.01 0.01 0.34 0.24 0.15 0.2  0.05]]\n"
     ]
    }
   ],
   "source": [
    "import pandas as pd\n",
    "test_case = pd.DataFrame({\n",
    "    'Gender' : [1],\n",
    "    'Age' : [30],\n",
    "    'Height' :\t[1.80],\n",
    "    'Weight' : [100],\n",
    "    'family_history' : [0],\n",
    "    'FAVC' : [1],\n",
    "    'FCVC' : [4.0],\n",
    "    'NCP' : [1.0],\n",
    "    'CAEC' : [2],\n",
    "    'SMOKE'\t: [1],\n",
    "    'CH2O' : [2.0056],\n",
    "    'SCC' :\t[1],\n",
    "    'FAF' :\t[3.0],\n",
    "    'TUE' :\t[1.0],\n",
    "    'CALC' : [3],\n",
    "    'MTRANS' : [4]\n",
    "})\n",
    "\n",
    "test_case = test_case[loaded_selection.columns]\n",
    "predicted_class = loaded_model.predict(test_case)\n",
    "predicted_probabilities = loaded_model.predict_proba(test_case)\n",
    "\n",
    "print(\"Test Case Input:\")\n",
    "print(test_case)\n",
    "\n",
    "print(\"\\nPredicted Class:\", predicted_class[0])\n",
    "print(\"Class Probabilities:\", predicted_probabilities)"
   ]
  }
 ],
 "metadata": {
  "kernelspec": {
   "display_name": "Python 3",
   "language": "python",
   "name": "python3"
  },
  "language_info": {
   "codemirror_mode": {
    "name": "ipython",
    "version": 3
   },
   "file_extension": ".py",
   "mimetype": "text/x-python",
   "name": "python",
   "nbconvert_exporter": "python",
   "pygments_lexer": "ipython3",
   "version": "3.11.7"
  }
 },
 "nbformat": 4,
 "nbformat_minor": 2
}
